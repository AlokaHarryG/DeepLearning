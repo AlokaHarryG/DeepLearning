{
 "cells": [
  {
   "cell_type": "markdown",
   "metadata": {},
   "source": [
    "# 第三章：分类\n",
    "## MNIST数据集\n",
    "本章学习用的数据集为70000张手写的数字图片，被称为机器学习领域的Hello World，新的分类算法往往会在MNIST上进行测试\n",
    "\n",
    "sklearn提供饿了许多功能帮忙下载流行的 数据集，其中就包括了MNIST，通过如下代码来获取数据集\n",
    "\n",
    "获取的数据存储在$HOME/scikit_learn_data目录下"
   ]
  },
  {
   "cell_type": "code",
   "execution_count": 1,
   "metadata": {},
   "outputs": [
    {
     "data": {
      "text/plain": [
       "dict_keys(['data', 'target', 'frame', 'categories', 'feature_names', 'target_names', 'DESCR', 'details', 'url'])"
      ]
     },
     "execution_count": 1,
     "metadata": {},
     "output_type": "execute_result"
    }
   ],
   "source": [
    "from sklearn.datasets import fetch_openml\n",
    "mnist = fetch_openml('mnist_784', version=1, as_frame=False)\n",
    "mnist.keys()"
   ]
  },
  {
   "cell_type": "code",
   "execution_count": 2,
   "metadata": {},
   "outputs": [
    {
     "name": "stdout",
     "output_type": "stream",
     "text": [
      "(70000, 784)\n",
      "(70000,)\n"
     ]
    }
   ],
   "source": [
    "X, y = mnist[\"data\"], mnist[\"target\"]\n",
    "print(X.shape)\n",
    "print(y.shape)"
   ]
  },
  {
   "cell_type": "markdown",
   "metadata": {},
   "source": [
    "由于图片是28\\*28的，故总共包含了784个特征，图片由于是黑白的，每个特征都有0-255表示从黑到白，可以存在一个28\\*28的二维数组里面，然后使用**matplotlib.imshow()**打印出来\n"
   ]
  },
  {
   "cell_type": "code",
   "execution_count": 82,
   "metadata": {},
   "outputs": [
    {
     "name": "stdout",
     "output_type": "stream",
     "text": [
      "对应的数字：7\n"
     ]
    },
    {
     "data": {
      "image/png": "[encoded data removed]",
      "text/plain": [
       "<Figure size 432x288 with 1 Axes>"
      ]
     },
     "metadata": {
      "needs_background": "light"
     },
     "output_type": "display_data"
    }
   ],
   "source": [
    "import random\n",
    "import numpy as np\n",
    "%matplotlib inline\n",
    "import matplotlib as mpl\n",
    "import matplotlib.pyplot as plt\n",
    "a = random.randint(0,69999)\n",
    "some_digit = X[a] # 抓取其中随机一个数据\n",
    "some_digit_image = some_digit.reshape(28,28)\n",
    "plt.imshow(some_digit_image, cmap = \"binary\")\n",
    "print(\"对应的数字：\"+str(y[a]))#显示对应的标签"
   ]
  },
  {
   "cell_type": "code",
   "execution_count": 4,
   "metadata": {},
   "outputs": [
    {
     "name": "stdout",
     "output_type": "stream",
     "text": [
      "[5 0 4 ... 4 5 6]\n",
      "70000\n"
     ]
    }
   ],
   "source": [
    "y = y.astype(np.uint8)#将y（标签）的数据类型转化为标准的整数类型列表\n",
    "print(y)\n",
    "print(len(y))"
   ]
  },
  {
   "cell_type": "markdown",
   "metadata": {},
   "source": [
    "**MNIST库中已经将数据分成了训练集和测试集**，其中前六万张图片是训练集，后一万张是测试集\n",
    "\n",
    "```python\n",
    "X_train,X_test,y_train,y_test = X[:60000],X[60000:],y[:60000],y[60000:]\n",
    "```\n",
    "数据基本的准备完成了，那么接下来...\n",
    "\n",
    "## 训练二元分类器\n",
    "\n",
    "先简化问题——只尝试识别一个数字，比如数字5，则只有两个类别，5和非5\n",
    "\n",
    "一个好的初始选择：随机梯度下降(SGD)分类器，使用**sklearn.linear_model.SGDClassifier**即可。我们先创建一个SGDClassifier并且在整个训练集上进行训练\n",
    "\n",
    "**y_train_5&y_test_5:布尔类型：对于训练集/测试集对应位置元素是否为5的真值结果列表**"
   ]
  },
  {
   "cell_type": "code",
   "execution_count": 5,
   "metadata": {},
   "outputs": [
    {
     "data": {
      "text/plain": [
       "SGDClassifier(random_state=42)"
      ]
     },
     "execution_count": 5,
     "metadata": {},
     "output_type": "execute_result"
    }
   ],
   "source": [
    "X_train, X_test, y_train, y_test = X[:60000], X[60000:], y[:60000], y[60000:]\n",
    "\n",
    "y_train_5 = (y_train == 5)\n",
    "y_test_5 = (y_test == 5)\n",
    "\n",
    "from sklearn.linear_model import SGDClassifier\n",
    "\n",
    "sgd_clf = SGDClassifier(max_iter=1000, tol=1e-3, random_state=42)\n",
    "# 自动创建一个分类器实例，然后将数据集放入实例中拟合，有的时候max_iter和tol超参数默认值会不一样\n",
    "sgd_clf.fit(X_train, y_train_5)\n"
   ]
  },
  {
   "cell_type": "code",
   "execution_count": 6,
   "metadata": {},
   "outputs": [
    {
     "data": {
      "text/plain": [
       "array([ True])"
      ]
     },
     "execution_count": 6,
     "metadata": {},
     "output_type": "execute_result"
    }
   ],
   "source": [
    "sgd_clf.predict([some_digit])#结合上面的随机抽样可以验证正确性，上面代码块随机出5的数据时结果为True，否则为False"
   ]
  },
  {
   "cell_type": "markdown",
   "metadata": {},
   "source": [
    "## 性能测量\n",
    "### 使用交叉验证测量准确率\n",
    "同第二章的，交叉验证是一个评估模型的好方法\n",
    "\n",
    "    补充：\n",
    "    有时我们想控制更多一些，则不再使用sklearn.cross_val_score，而是可以自己实现一个："
   ]
  },
  {
   "cell_type": "code",
   "execution_count": 7,
   "metadata": {},
   "outputs": [],
   "source": [
    "# from sklearn.model_selection import StratifiedKFold\n",
    "# from sklearn.base import clone\n",
    "\n",
    "# skfolds = StratifiedKFold(n_splits=3, shuffle=True, random_state=42)\n",
    "# # K折分层抽样\n",
    "\n",
    "# for train_index, test_index in skfolds.split(X_train, y_train_5):\n",
    "#     clone_clf = clone(sgd_clf)\n",
    "#     X_train_folds = X_train[train_index]\n",
    "#     y_train_folds = y_train_5[train_index]\n",
    "#     X_test_fold = X_train[test_index]\n",
    "#     y_test_fold = y_train_5[test_index]\n",
    "\n",
    "#     clone_clf.fit(X_train_folds, y_train_folds)\n",
    "#     y_pred = clone_clf.predict(X_test_fold)\n",
    "#     n_correct = sum(y_pred == y_test_fold)\n",
    "#     print(n_correct / len(y_pred)) #0.9669  0.91625  0.96785"
   ]
  },
  {
   "cell_type": "code",
   "execution_count": 8,
   "metadata": {},
   "outputs": [],
   "source": [
    "#使用原本的交叉验证\n",
    "# from sklearn.model_selection import cross_val_score\n",
    "# cross_val_score(sgd_clf, X_train, y_train_5, cv=3, scoring=\"accuracy\")\n",
    "#array([0.95035, 0.96035, 0.9604 ])"
   ]
  },
  {
   "cell_type": "markdown",
   "metadata": {},
   "source": [
    "看样子准确率在0.9+?但这是不够科学的！\n",
    "**因为只有10%是True，即使一直猜False都有90%的准确率**\n",
    "所以需要一个更好的评估方法\n",
    "\n",
    "### 混淆矩阵(Confusion Matrix)\n",
    "还是刚刚的问题，我们现在想知道数字3和5的混淆次数\n",
    "\n",
    "计算混淆矩阵需要有一组预测结果，可以通过测试集来预测，但是最好不要先动他。作为替代，可以使用**cross_val_predict**函数\n",
    "\n",
    "**cross_val_score & cross_value_predict**一个返回的是评估的分数，一个返回的是对每个折叠的预测\n",
    "\n",
    "二元混淆矩阵：True/False+Positive/Negative"
   ]
  },
  {
   "cell_type": "code",
   "execution_count": 9,
   "metadata": {},
   "outputs": [
    {
     "data": {
      "text/plain": [
       "array([ True, False, False, ...,  True, False, False])"
      ]
     },
     "execution_count": 9,
     "metadata": {},
     "output_type": "execute_result"
    }
   ],
   "source": [
    "from sklearn.model_selection import cross_val_predict\n",
    "y_train_pred = cross_val_predict(sgd_clf, X_train, y_train_5,cv=3)\n",
    "y_train_pred"
   ]
  },
  {
   "cell_type": "code",
   "execution_count": 10,
   "metadata": {},
   "outputs": [
    {
     "name": "stdout",
     "output_type": "stream",
     "text": [
      "[[53892   687]\n",
      " [ 1891  3530]]\n",
      "[[54579     0]\n",
      " [    0  5421]]\n"
     ]
    }
   ],
   "source": [
    "from sklearn.metrics import confusion_matrix\n",
    "mat = confusion_matrix(y_train_5, y_train_pred)# 混淆矩阵两个参数，均为true/false的列表，通过两个数据比对生成混淆矩阵\n",
    "print(mat)\n",
    "mat[0][0] += mat[0][1]\n",
    "mat[1][1]+= mat[1][0]\n",
    "mat[0][1] = 0\n",
    "mat[1][0] = 0\n",
    "print(mat)"
   ]
  },
  {
   "cell_type": "markdown",
   "metadata": {},
   "source": [
    "通过混淆矩阵，可以获取到一些分类器的指标：\n",
    "###  精度与召回率\n",
    "**精度**\n",
    "$$精度 = \\frac{TP}{TP+FP}$$\n",
    "**召回率**\n",
    "$$召回率 = \\frac{TP}{TP+FN}$$\n",
    "\n",
    "sklearn提供了多种计算分类器指标的函数，其中包括了精度和召回率(**precision_score, recall_score**)\n",
    "\n",
    "精度和召回率的实际意义：精度：判断是阳性的时候是真阳性的概率；召回率：真阳性能被判断出来的概率"
   ]
  },
  {
   "cell_type": "code",
   "execution_count": 11,
   "metadata": {},
   "outputs": [
    {
     "name": "stdout",
     "output_type": "stream",
     "text": [
      "precision: 0.8370879772350012\n",
      "recall: 0.6511713705958311\n"
     ]
    }
   ],
   "source": [
    "from sklearn.metrics import precision_score, recall_score\n",
    "\n",
    "print(\"precision: \"+str(precision_score(y_train_5, y_train_pred)))\n",
    "print(\"recall: \"+str(recall_score(y_train_5, y_train_pred)))"
   ]
  },
  {
   "cell_type": "markdown",
   "metadata": {},
   "source": [
    "**F1分数：**精度和召回率的调和平均值（谐波平均值）\n",
    "\n",
    "$$F1 = \\frac{2}{\\frac{1}{精度}+\\frac{1}{召回率}}$$"
   ]
  },
  {
   "cell_type": "code",
   "execution_count": 12,
   "metadata": {},
   "outputs": [
    {
     "name": "stdout",
     "output_type": "stream",
     "text": [
      "0.7325171197343846\n",
      "0.7325171197343846\n"
     ]
    }
   ],
   "source": [
    "from sklearn.metrics import f1_score\n",
    "print(f1_score(y_train_5, y_train_pred))\n",
    "print(f1_score(y_train_pred, y_train_5))# 说明精度和召回率在矩阵上的意义具有对称性，当真值和测试集互换时，精度和召回率互换"
   ]
  },
  {
   "cell_type": "markdown",
   "metadata": {},
   "source": [
    "### 精度/召回率权衡\n",
    "理解如何做到精度和召回率的权衡，我们需要理解SGDClassifier的决策模式：对每个分实例，会给予决策函数计算出一个**分值**，如果大于**阈值**则判断为正类，否则判断为负类**所以，在不改变决策函数的情况下，精度和召回率只能是此消彼长的**\n",
    "\n",
    "sklearn并不允许直接设置阈值，但可以访问**决策分数**，不是调用predict()方法，而是调用decision_function()方法，该方法返回的是每个实力的分数，然后可以根据这些分数来使用任意阈值进行预测。可以对不同的阈值进行分析选择最理想的阈值来自行完成精度和召回率的权衡\n",
    "\n",
    "### 补充：关于此项目中的数据结构...\n",
    "有些参数是不是有些疑问？比如图片信息最终是以什么格式存储在什么数据结构里的\n",
    "\n",
    "**ndarray多维数组**：本项目中的数据是个二维数组，黑白图片通过28\\*28呈现，但其实存储在一维数组内，然后所有的数据再线性分布，形成二维数组。如**some_digit参数**就是一个一维数组\n",
    "\n",
    "**sgd_clf决策模型——SGDClassifier类的实例**是对一维数组的决策，但调用许多方法的时候因为这些方法是可以批量处理数据产生结果的，所以传入参数的时候传的是数据的集合，所以呈现的输入的数据结构是二维数组\n",
    "\n",
    "**SGDClassifier**的阈值设定是0，改变阈值可以通过调整**threshold**来改变（threshold：阈值）"
   ]
  },
  {
   "cell_type": "code",
   "execution_count": 13,
   "metadata": {},
   "outputs": [
    {
     "name": "stdout",
     "output_type": "stream",
     "text": [
      "y_scores for all: [  2164.22030239  -5897.37359354 -13489.14805779 ...   6007.43513003\n",
      "   -695.89564908  -3991.49590678]\n",
      "y_scores for X0 which is 5: [2164.22030239]\n",
      "60000\n",
      "[[54570     9]\n",
      " [ 4725   696]]\n"
     ]
    }
   ],
   "source": [
    "y_scores = sgd_clf.decision_function(X_train)\n",
    "print(\"y_scores for all: \"+str(y_scores))\n",
    "y_scores = sgd_clf.decision_function([some_digit])#参数：2维数组，返回值：一个一维数组，所以是[some_digit]，分别为每组数据的评分\n",
    "print(\"y_scores for X0 which is 5: \"+str(y_scores))\n",
    "\n",
    "# Aloka获得混淆矩阵的方法（not in book）\n",
    "threshold = 8000\n",
    "y_scores = sgd_clf.decision_function(X_train)\n",
    "print(len(y_scores))\n",
    "y_train_pred = (y_scores > threshold)\n",
    "# 我们来看看调整后的混淆矩阵\n",
    "mat = confusion_matrix(y_train_5, y_train_pred)# 混淆矩阵两个参数，均为true/false的列表，通过两个数据比对生成混淆矩阵\n",
    "print(mat)\n"
   ]
  },
  {
   "cell_type": "markdown",
   "metadata": {},
   "source": [
    "用matplotlib来绘制精度和召回率关于阈值变化的变化趋势"
   ]
  },
  {
   "cell_type": "code",
   "execution_count": 14,
   "metadata": {},
   "outputs": [
    {
     "name": "stdout",
     "output_type": "stream",
     "text": [
      "55672\n",
      "0.9000705384434516\n",
      "recall_90_precision: 0.7061427780852241\n",
      "threshold_90_precision: 2123.562046995018\n"
     ]
    },
    {
     "data": {
      "image/png": "[encoded data removed]",
      "text/plain": [
       "<Figure size 576x288 with 1 Axes>"
      ]
     },
     "metadata": {
      "needs_background": "light"
     },
     "output_type": "display_data"
    }
   ],
   "source": [
    "from sklearn.metrics import precision_recall_curve\n",
    "\n",
    "precisions, recalls, thresholds = precision_recall_curve(y_train_5, y_scores)\n",
    "def plot_precision_recall_vs_threshold(precisions, recalls, thresholds):\n",
    "    plt.plot(thresholds, precisions[:-1], \"b--\", label=\"Precision\", linewidth=2)\n",
    "    plt.plot(thresholds, recalls[:-1], \"g-\", label=\"Recall\", linewidth=2)\n",
    "    plt.legend(loc=\"center right\", fontsize=16) # Not shown in the book\n",
    "    plt.xlabel(\"Threshold\", fontsize=16)        # Not shown\n",
    "    plt.grid(True)                              # Not shown\n",
    "    plt.axis([-50000, 50000, 0, 1])             # Not shown\n",
    "\n",
    "\n",
    "# 使用np.argmax来寻找到满足括号内条件的第一个索引\n",
    "print(np.argmax(precisions >=0.9))\n",
    "print(precisions[55672])\n",
    "recall_90_precision = recalls[np.argmax(precisions >= 0.90)]\n",
    "threshold_90_precision = thresholds[np.argmax(precisions >= 0.90)]\n",
    "print(\"recall_90_precision: \"+str(recall_90_precision))\n",
    "print(\"threshold_90_precision: \"+str(threshold_90_precision))\n",
    "\n",
    "plt.figure(figsize=(8, 4))                                                                  # Not shown\n",
    "plot_precision_recall_vs_threshold(precisions, recalls, thresholds)\n",
    "plt.plot([threshold_90_precision, threshold_90_precision], [0., 0.9], \"r:\")                 # Not shown\n",
    "plt.plot([-50000, threshold_90_precision], [0.9, 0.9], \"r:\")                                # Not shown\n",
    "plt.plot([-50000, threshold_90_precision], [recall_90_precision, recall_90_precision], \"r:\")# Not shown\n",
    "plt.plot([threshold_90_precision], [0.9], \"ro\")                                             # Not shown\n",
    "plt.plot([threshold_90_precision], [recall_90_precision], \"rd\")                             # Not shown\n",
    "#save_fig(\"precision_recall_vs_threshold_plot\")                                              # Not shown\n",
    "plt.show()"
   ]
  },
  {
   "cell_type": "code",
   "execution_count": 15,
   "metadata": {},
   "outputs": [
    {
     "data": {
      "image/png": "[encoded data removed]",
      "text/plain": [
       "<Figure size 576x432 with 1 Axes>"
      ]
     },
     "metadata": {
      "needs_background": "light"
     },
     "output_type": "display_data"
    }
   ],
   "source": [
    "# 绘制精度/召回率曲线\n",
    "plt.rcParams['font.sans-serif'] = ['FangSong'] # 指定默认字体\n",
    "plt.rcParams['axes.unicode_minus'] = False # 解决保存图像是负号'-'显示为方块的问题\n",
    "def plot_precision_vs_recall(precisions, recalls):\n",
    "    plt.plot(recalls, precisions)# (\"b-\", linewidth=2)\n",
    "    plt.xlabel(\"召回率\", fontsize=16)\n",
    "    plt.ylabel(\"精度\", fontsize=16)\n",
    "    plt.axis([0, 1, 0, 1])\n",
    "    plt.grid(True)\n",
    "\n",
    "plt.figure(figsize=(8, 6))\n",
    "plot_precision_vs_recall(precisions, recalls)\n",
    "plt.plot([recall_90_precision, recall_90_precision], [0, 0.9], \"r:\")\n",
    "plt.plot([0.0, recall_90_precision], [0.9, 0.9], \"r:\")\n",
    "plt.plot([recall_90_precision], [0.9], \"ro\")\n",
    "#save_fig(\"precision_vs_recall_plot\")\n",
    "plt.show()"
   ]
  },
  {
   "cell_type": "code",
   "execution_count": 16,
   "metadata": {},
   "outputs": [],
   "source": [
    "y_train_pred_90 = (y_scores >= threshold_90_precision)\n",
    "threshold_90_precision = thresholds[np.argmax(precisions >= 0.90)]\n",
    "#threshold_90_precision #2123.562046995018\n"
   ]
  },
  {
   "cell_type": "markdown",
   "metadata": {},
   "source": [
    "### ROC曲线\n",
    "ROC曲线（**受试者工作特征曲线**）与精度/召回率曲线非常相似，但绘制的是**真正类率和假正类率（真正类率即召回率，假正类率为FPR，即1-TNR，TNR是正确分为负类的比率，也成为特异度）**\n",
    "\n",
    "绘制ROC曲线，可以用**roc_curve()**\n",
    "函数计算多种阈值的TPR和FPR（因为二者变化是随着阈值改变的）\n",
    "\n",
    "https://blog.csdn.net/Titan0427/article/details/79356290"
   ]
  },
  {
   "cell_type": "code",
   "execution_count": 17,
   "metadata": {},
   "outputs": [],
   "source": [
    "from sklearn.metrics import roc_curve\n",
    "fpr, tpr, thresholds = roc_curve(y_train_5, y_scores)\n",
    "# 返回三个数组，分别为每个数据的阈值，假正率，真正率以及此数据对应的阈值\n",
    "# print(fpr)\n",
    "# print(tpr)\n",
    "# print(thresholds)"
   ]
  },
  {
   "cell_type": "markdown",
   "metadata": {},
   "source": [
    "以此为基础开始绘图\n"
   ]
  },
  {
   "cell_type": "code",
   "execution_count": 18,
   "metadata": {},
   "outputs": [
    {
     "data": {
      "image/png": "[encoded data removed]",
      "text/plain": [
       "<Figure size 576x432 with 1 Axes>"
      ]
     },
     "metadata": {
      "needs_background": "light"
     },
     "output_type": "display_data"
    }
   ],
   "source": [
    "def plot_roc_curve(fpr, tpr, label=None):\n",
    "    plt.plot(fpr, tpr, linewidth=2, label=label)\n",
    "    plt.plot([0, 1], [0, 1], 'y:') # dashed diagonal\n",
    "    plt.axis([0, 1, 0, 1])                                    # Not shown in the book\n",
    "    plt.xlabel('False Positive Rate (Fall-Out)', fontsize=16) # Not shown\n",
    "    plt.ylabel('True Positive Rate (Recall)', fontsize=16)    # Not shown\n",
    "    plt.grid(True)                                            # Not shown\n",
    "\n",
    "plt.figure(figsize=(8, 6))                                    # Not shown\n",
    "plot_roc_curve(fpr, tpr)\n",
    "fpr_90 = fpr[np.argmax(tpr >= recall_90_precision)]           # Not shown\n",
    "# plt.plot([fpr_90, fpr_90], [0., recall_90_precision], \"r:\")   # Not shown\n",
    "# plt.plot([0.0, fpr_90], [recall_90_precision, recall_90_precision], \"r:\")  # Not shown\n",
    "plt.plot(fpr_90, recall_90_precision, \"ro\")               # Not shown\n",
    "#save_fig(\"roc_curve_plot\")                                    # Not shown\n",
    "plt.show()"
   ]
  },
  {
   "cell_type": "markdown",
   "metadata": {},
   "source": [
    "上图中黄色的虚线有特别的意义：表示**纯随机分类器的ROC曲线**所以离这条线越远越好\n",
    "\n",
    "有一种方法是侧量曲线下面积AUC，纯随机为0.5，面积越大越好\n"
   ]
  },
  {
   "cell_type": "code",
   "execution_count": 19,
   "metadata": {},
   "outputs": [
    {
     "data": {
      "text/plain": [
       "0.9709618248430906"
      ]
     },
     "execution_count": 19,
     "metadata": {},
     "output_type": "execute_result"
    }
   ],
   "source": [
    "from sklearn.metrics import roc_auc_score\n",
    "\n",
    "roc_auc_score(y_train_5, y_scores)"
   ]
  },
  {
   "cell_type": "markdown",
   "metadata": {},
   "source": [
    "看似还不错？其实还不够！可以更接近！\n",
    "### 我们现在训练一个新的分类器：RandomForestClassifier（随机森林分类器）\n",
    "不再用随机梯度下降分类器，而是用随机森林法"
   ]
  },
  {
   "cell_type": "code",
   "execution_count": 20,
   "metadata": {},
   "outputs": [],
   "source": [
    "from sklearn.ensemble import RandomForestClassifier\n",
    "forest_clf = RandomForestClassifier(n_estimators=100, random_state=42)\n",
    "y_probas_forest = cross_val_predict(forest_clf, X_train, y_train_5, cv=3,\n",
    "                                    method=\"predict_proba\")\n"
   ]
  },
  {
   "cell_type": "code",
   "execution_count": 30,
   "metadata": {},
   "outputs": [
    {
     "data": {
      "text/plain": [
       "array([0.89, 0.01, 0.04, ..., 0.98, 0.08, 0.06])"
      ]
     },
     "execution_count": 30,
     "metadata": {},
     "output_type": "execute_result"
    }
   ],
   "source": [
    "y_scores_forest = y_probas_forest[:, 1] # score = proba of positive class\n",
    "# array类别：xxx = xxx[y, :] 选取第y行的数值， xxx = xxx[:, y] 选取第y列的数值\n",
    "y_scores_forest"
   ]
  },
  {
   "cell_type": "code",
   "execution_count": 32,
   "metadata": {},
   "outputs": [
    {
     "data": {
      "image/png": "[encoded data removed]",
      "text/plain": [
       "<Figure size 576x432 with 1 Axes>"
      ]
     },
     "metadata": {
      "needs_background": "light"
     },
     "output_type": "display_data"
    }
   ],
   "source": [
    "fpr_forest, tpr_forest, thresholds_forest = roc_curve(y_train_5,y_scores_forest)\n",
    "recall_for_forest = tpr_forest[np.argmax(fpr_forest >= fpr_90)]\n",
    "\n",
    "plt.figure(figsize=(8, 6))\n",
    "plt.plot(fpr, tpr, \"b:\", linewidth=2, label=\"SGD\")\n",
    "plot_roc_curve(fpr_forest, tpr_forest, \"Random Forest\")\n",
    "plt.plot([fpr_90, fpr_90], [0., recall_90_precision], \"r:\")\n",
    "plt.plot([0.0, fpr_90], [recall_90_precision, recall_90_precision], \"r:\")\n",
    "plt.plot([fpr_90], [recall_90_precision], \"ro\")\n",
    "plt.plot([fpr_90, fpr_90], [0., recall_for_forest], \"r:\")\n",
    "plt.plot([fpr_90], [recall_for_forest], \"ro\")\n",
    "plt.grid(True)\n",
    "plt.legend(loc=\"lower right\", fontsize=16)\n",
    "#save_fig(\"roc_curve_comparison_plot\")\n",
    "plt.show()"
   ]
  },
  {
   "cell_type": "markdown",
   "metadata": {},
   "source": [
    "可以注意到随机森林的ROC曲线明显由于SGD（随机梯度）\n",
    "\n",
    "为了验证这一点，计算一下ROC AUC分数"
   ]
  },
  {
   "cell_type": "code",
   "execution_count": 33,
   "metadata": {},
   "outputs": [
    {
     "data": {
      "text/plain": [
       "0.9983436731328145"
      ]
     },
     "execution_count": 33,
     "metadata": {},
     "output_type": "execute_result"
    }
   ],
   "source": [
    "roc_auc_score(y_train_5, y_scores_forest)"
   ]
  },
  {
   "cell_type": "markdown",
   "metadata": {},
   "source": [
    "## 多类分类器\n",
    "可以区分两个以上的类\n",
    "\n",
    "有些算法可以直接处理多个类，如**随机森林分类器**或者**朴素贝叶斯分类器**；但有一些严格的二元分类器，如**支持向量机分类器或线性分类器**，但有多重策略可以用二元分类器实现多类分类器\n",
    "\n",
    "1. 使用n个二元分类器，看决策分数哪个最高来实现n类分类（**OVR-one vs rest**）\n",
    "2. 使用n(n-1)/2个二元分类器，虽然分类器更多，但处理问题的规模更小（**OVO**）\n",
    "\n",
    "Sklearn可以检测到你尝试使用二元分类算法实现多类分类，他会自动选择运行OVR还是OVO\n",
    "\n",
    "使用**sklearn.svm.SVC类**来试试SVM分类器：\n"
   ]
  },
  {
   "cell_type": "code",
   "execution_count": 63,
   "metadata": {},
   "outputs": [
    {
     "data": {
      "text/plain": [
       "array([5], dtype=uint8)"
      ]
     },
     "execution_count": 63,
     "metadata": {},
     "output_type": "execute_result"
    }
   ],
   "source": [
    "from sklearn.svm import SVC\n",
    "\n",
    "svm_clf = SVC(gamma=\"auto\", random_state=42)\n",
    "svm_clf.fit(X_train[:1000], y_train[:1000]) # y_train, not y_train_5\n",
    "# 注意，这里至训练了前1000个\n",
    "svm_clf.predict([some_digit])"
   ]
  },
  {
   "cell_type": "code",
   "execution_count": 64,
   "metadata": {},
   "outputs": [
    {
     "data": {
      "text/plain": [
       "array([[ 2.81585438,  7.09167958,  3.82972099,  0.79365551,  5.8885703 ,\n",
       "         9.29718395,  1.79862509,  8.10392157, -0.228207  ,  4.83753243]])"
      ]
     },
     "execution_count": 64,
     "metadata": {},
     "output_type": "execute_result"
    }
   ],
   "source": [
    "some_digit_scores = svm_clf.decision_function([some_digit])\n",
    "some_digit_scores"
   ]
  },
  {
   "cell_type": "markdown",
   "metadata": {},
   "source": [
    "#### 强制使用OVO/OVR策略\n",
    "可以使用OneVsOneClassifier或OneVsRestClassifier类"
   ]
  },
  {
   "cell_type": "code",
   "execution_count": 70,
   "metadata": {},
   "outputs": [
    {
     "name": "stdout",
     "output_type": "stream",
     "text": [
      "10\n"
     ]
    },
    {
     "data": {
      "text/plain": [
       "array([5], dtype=uint8)"
      ]
     },
     "execution_count": 70,
     "metadata": {},
     "output_type": "execute_result"
    }
   ],
   "source": [
    "from sklearn.multiclass import OneVsRestClassifier\n",
    "ovr_clf = OneVsRestClassifier(SVC(gamma=\"auto\", random_state=42))\n",
    "ovr_clf.fit(X_train[:1000], y_train[:1000])\n",
    "print(len(ovr_clf.estimators_))\n",
    "ovr_clf.predict([some_digit])"
   ]
  },
  {
   "cell_type": "code",
   "execution_count": 77,
   "metadata": {},
   "outputs": [
    {
     "data": {
      "text/plain": [
       "array([3], dtype=uint8)"
      ]
     },
     "execution_count": 77,
     "metadata": {},
     "output_type": "execute_result"
    }
   ],
   "source": [
    "sgd_clf.fit(X_train, y_train)\n",
    "sgd_clf.predict([some_digit])"
   ]
  },
  {
   "cell_type": "code",
   "execution_count": 83,
   "metadata": {},
   "outputs": [
    {
     "data": {
      "text/plain": [
       "array([7], dtype=uint8)"
      ]
     },
     "execution_count": 83,
     "metadata": {},
     "output_type": "execute_result"
    }
   ],
   "source": [
    "sgd_clf.predict([some_digit])"
   ]
  },
  {
   "cell_type": "code",
   "execution_count": null,
   "metadata": {},
   "outputs": [],
   "source": []
  }
 ],
 "metadata": {
  "kernelspec": {
   "display_name": "Python 3",
   "language": "python",
   "name": "python3"
  },
  "language_info": {
   "codemirror_mode": {
    "name": "ipython",
    "version": 3
   },
   "file_extension": ".py",
   "mimetype": "text/x-python",
   "name": "python",
   "nbconvert_exporter": "python",
   "pygments_lexer": "ipython3",
   "version": "3.7.0"
  }
 },
 "nbformat": 4,
 "nbformat_minor": 2
}
