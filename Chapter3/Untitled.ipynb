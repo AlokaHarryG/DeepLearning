{
 "cells": [
  {
   "cell_type": "markdown",
   "metadata": {},
   "source": [
    "# 第三章：分类\n",
    "## MNIST数据集\n",
    "本章学习用的数据集为70000张手写的数字图片，被称为机器学习领域的Hello World，新的分类算法往往会在MNIST上进行测试\n",
    "\n",
    "sklearn提供饿了许多功能帮忙下载流行的 数据集，其中就包括了MNIST，通过如下代码来获取数据集\n",
    "\n",
    "获取的数据存储在$HOME/scikit_learn_data目录下"
   ]
  },
  {
   "cell_type": "code",
   "execution_count": 1,
   "metadata": {},
   "outputs": [
    {
     "data": {
      "text/plain": [
       "dict_keys(['data', 'target', 'frame', 'categories', 'feature_names', 'target_names', 'DESCR', 'details', 'url'])"
      ]
     },
     "execution_count": 1,
     "metadata": {},
     "output_type": "execute_result"
    }
   ],
   "source": [
    "from sklearn.datasets import fetch_openml\n",
    "mnist = fetch_openml('mnist_784', version=1, as_frame=False)\n",
    "mnist.keys()"
   ]
  },
  {
   "cell_type": "code",
   "execution_count": 3,
   "metadata": {},
   "outputs": [
    {
     "name": "stdout",
     "output_type": "stream",
     "text": [
      "(70000, 784)\n",
      "(70000,)\n"
     ]
    }
   ],
   "source": [
    "X, y = mnist[\"data\"], mnist[\"target\"]\n",
    "print(X.shape)\n",
    "print(y.shape)"
   ]
  },
  {
   "cell_type": "markdown",
   "metadata": {},
   "source": [
    "由于图片是28\\*28的，故总共包含了784个特征，图片由于是黑白的，每个特征都有0-255表示从黑到白，可以存在一个28\\*28的二维数组里面，然后使用**matplotlib.imshow()**打印出来\n"
   ]
  },
  {
   "cell_type": "code",
   "execution_count": 16,
   "metadata": {},
   "outputs": [
    {
     "name": "stdout",
     "output_type": "stream",
     "text": [
      "对应的数字：9\n"
     ]
    },
    {
     "data": {
      "image/png": "[encoded data removed]",
      "text/plain": [
       "<Figure size 432x288 with 1 Axes>"
      ]
     },
     "metadata": {
      "needs_background": "light"
     },
     "output_type": "display_data"
    }
   ],
   "source": [
    "import random\n",
    "import numpy as np\n",
    "%matplotlib inline\n",
    "import matplotlib as mpl\n",
    "import matplotlib.pyplot as plt\n",
    "a = random.randint(0,69999)\n",
    "some_digit = X[a] # 抓取其中随机一个数据\n",
    "some_digit_image = some_digit.reshape(28,28)\n",
    "plt.imshow(some_digit_image, cmap = \"binary\")\n",
    "print(\"对应的数字：\"+str(y[a]))#显示对应的标签"
   ]
  },
  {
   "cell_type": "code",
   "execution_count": 19,
   "metadata": {},
   "outputs": [
    {
     "name": "stdout",
     "output_type": "stream",
     "text": [
      "[5 0 4 ... 4 5 6]\n",
      "70000\n"
     ]
    }
   ],
   "source": [
    "y = y.astype(np.uint8)#将y（标签）的数据类型转化为标准的整数类型列表\n",
    "print(y)\n",
    "print(len(y))"
   ]
  },
  {
   "cell_type": "markdown",
   "metadata": {},
   "source": [
    "**MNIST库中已经将数据分成了训练集和测试集**，其中前六万张图片是训练集，后一万张是测试集\n",
    "\n",
    "```python\n",
    "X_train,X_test,y_train,y_test = X[:60000],X[60000:],y[:60000],y[60000:]\n",
    "```\n",
    "数据基本的准备完成了，那么接下来...\n",
    "\n",
    "## 训练二元分类器\n",
    "\n",
    "先简化问题——只尝试识别一个数字，比如数字5，则只有两个类别，5和非5\n",
    "\n"
   ]
  },
  {
   "cell_type": "code",
   "execution_count": null,
   "metadata": {},
   "outputs": [],
   "source": []
  }
 ],
 "metadata": {
  "kernelspec": {
   "display_name": "Python 3",
   "language": "python",
   "name": "python3"
  },
  "language_info": {
   "codemirror_mode": {
    "name": "ipython",
    "version": 3
   },
   "file_extension": ".py",
   "mimetype": "text/x-python",
   "name": "python",
   "nbconvert_exporter": "python",
   "pygments_lexer": "ipython3",
   "version": "3.7.0"
  }
 },
 "nbformat": 4,
 "nbformat_minor": 2
}
